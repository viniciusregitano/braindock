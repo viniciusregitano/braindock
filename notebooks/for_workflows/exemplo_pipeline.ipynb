{
 "cells": [
  {
   "cell_type": "markdown",
   "id": "9e8066b1",
   "metadata": {},
   "source": [
    "# Exemplo de Notebook com Papermill\n",
    "Este notebook será executado automaticamente via Prefect + Papermill."
   ]
  },
  {
   "cell_type": "code",
   "execution_count": null,
   "id": "301b1e87",
   "metadata": {},
   "outputs": [],
   "source": [
    "import datetime\n",
    "from IPython.display import display"
   ]
  },
  {
   "cell_type": "code",
   "execution_count": null,
   "id": "325f6447",
   "metadata": {
    "papermill": {
     "parameters": {}
    },
    "tags": [
     "parameters"
    ]
   },
   "outputs": [],
   "source": [
    "# Parameters\n",
    "param1 = 'valor padrão'\n",
    "param2 = 0"
   ]
  },
  {
   "cell_type": "markdown",
   "id": "b675b977",
   "metadata": {},
   "source": [
    "## Parâmetros recebidos"
   ]
  },
  {
   "cell_type": "code",
   "execution_count": null,
   "id": "aff30fbd",
   "metadata": {},
   "outputs": [],
   "source": [
    "print(f'param1: {param1}')\n",
    "print(f'param2: {param2}')"
   ]
  },
  {
   "cell_type": "markdown",
   "id": "213ce3fb",
   "metadata": {},
   "source": [
    "## Resultado gerado"
   ]
  },
  {
   "cell_type": "code",
   "execution_count": null,
   "id": "d4cefdb3",
   "metadata": {},
   "outputs": [],
   "source": [
    "resultado = f\"Processado com sucesso: {param1}, {param2} x 2 = {param2 * 2}\"\n",
    "display(resultado)"
   ]
  },
  {
   "cell_type": "code",
   "execution_count": null,
   "id": "7bbc0ee9",
   "metadata": {},
   "outputs": [],
   "source": [
    "print(f\"Executado em: {datetime.datetime.now()}\")"
   ]
  }
 ],
 "metadata": {
  "language_info": {
   "name": "python"
  }
 },
 "nbformat": 4,
 "nbformat_minor": 5
}
