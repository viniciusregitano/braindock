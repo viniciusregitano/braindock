{
 "cells": [
  {
   "cell_type": "code",
   "execution_count": 1,
   "id": "ce37968e",
   "metadata": {},
   "outputs": [],
   "source": [
    "from src.llm.llm_client import LLMClient\n",
    "from src.llm.embedding_client import EmbeddingClient\n",
    "\n",
    "llm = LLMClient()\n",
    "embedding = EmbeddingClient()"
   ]
  },
  {
   "cell_type": "code",
   "execution_count": 2,
   "id": "b48aa999",
   "metadata": {},
   "outputs": [
    {
     "name": "stdout",
     "output_type": "stream",
     "text": [
      "O Aprendizado por Reforço é um tipo de aprendizado de máquina onde um agente aprende a tomar decisões observando seu ambiente. Em cada passo, o agente toma uma ação, obtém algum retorno (pode ser uma recompensa ou punição) e usa esse retorno para melhorar sua política (conjunto de regras que determinam qual ação executar em cada situação).\n",
      "\n",
      "Essencialmente, o agente aprende através de tentativa e erro. Com o tempo, espera-se que o agente aprenda a tomar as decisões que maximize sua recompensa total. Por exemplo, isso pode ser usado para ensinar um robô a navegar em um labirinto ou um software a jogar um jogo melhorando suas estratégias com base nas suas experiências passadas.\n",
      "1536\n"
     ]
    }
   ],
   "source": [
    "print(llm.chat(\"Explique o que é aprendizado por reforço.\"))\n",
    "print(len(embedding.embed(\"Banco de dados vetorial\")))"
   ]
  }
 ],
 "metadata": {
  "kernelspec": {
   "display_name": "Python 3 (ipykernel)",
   "language": "python",
   "name": "python3"
  },
  "language_info": {
   "codemirror_mode": {
    "name": "ipython",
    "version": 3
   },
   "file_extension": ".py",
   "mimetype": "text/x-python",
   "name": "python",
   "nbconvert_exporter": "python",
   "pygments_lexer": "ipython3",
   "version": "3.11.6"
  }
 },
 "nbformat": 4,
 "nbformat_minor": 5
}
